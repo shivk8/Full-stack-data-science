{
 "cells": [
  {
   "cell_type": "code",
   "execution_count": 14,
   "metadata": {},
   "outputs": [],
   "source": [
    "def find_the_difference(str1,str2):\n",
    "    splitA = set(str1)\n",
    "    splitB = set(str2)\n",
    "    diff = splitB.difference(splitA)\n",
    "    diff = \"\".join(diff)\n",
    "    return diff"
   ]
  },
  {
   "cell_type": "code",
   "execution_count": 20,
   "metadata": {},
   "outputs": [],
   "source": [
    "def count_datatypes(*args):\n",
    "    l = [0,0,0,0,0,0] \n",
    "    #[int, str, bool, list, tuple, dictionary]\n",
    "    for i in args:\n",
    "        if type(i) == int:\n",
    "            l[0] += 1\n",
    "        elif type(i) == str:\n",
    "            l[1] += 1\n",
    "        elif type(i) == bool:\n",
    "            l[2] += 1\n",
    "        elif type(i) == list:\n",
    "            l[3] += 1\n",
    "        elif type(i) == tuple:\n",
    "            l[4] += 1\n",
    "        elif type(i) == dict:\n",
    "            l[5] += 1\n",
    "    return l\n",
    "            "
   ]
  },
  {
   "cell_type": "code",
   "execution_count": 26,
   "metadata": {},
   "outputs": [],
   "source": [
    "def fib_str(num, l):\n",
    "    count = 2\n",
    "    while count < num:\n",
    "        l.append(l[count-1]+l[count-2])\n",
    "        count+=1\n",
    "    \n",
    "    return ','.join(l)"
   ]
  },
  {
   "cell_type": "code",
   "execution_count": 35,
   "metadata": {},
   "outputs": [],
   "source": [
    "def ones_threes_nines(num):\n",
    "    n9 = 0\n",
    "    n3 = 0\n",
    "    n1 = 0\n",
    "    n9 = int(num / 9)\n",
    "    num = num % 9 \n",
    "    if(num > 1):\n",
    "        n3 = int(num/3)\n",
    "        num = num % 3\n",
    "        if num > 1:\n",
    "            n1 = num\n",
    "    res = \"nines:\"+str(n9)+\", threes:\"+str(n3)+\", ones:\"+str(n1)\n",
    "    return res"
   ]
  },
  {
   "cell_type": "code",
   "execution_count": 43,
   "metadata": {},
   "outputs": [],
   "source": [
    "def fib(num):\n",
    "    if num == 1:\n",
    "        return 0\n",
    "    elif num == 2:\n",
    "        return 1\n",
    "    else:\n",
    "        count = 2\n",
    "        a = 0\n",
    "        b = 1\n",
    "        while count <= num:\n",
    "            c = a+b\n",
    "            a = b\n",
    "            b = c\n",
    "            count+=1\n",
    "        return c\n",
    "    "
   ]
  },
  {
   "cell_type": "code",
   "execution_count": 44,
   "metadata": {},
   "outputs": [
    {
     "data": {
      "text/plain": [
       "8"
      ]
     },
     "execution_count": 44,
     "metadata": {},
     "output_type": "execute_result"
    }
   ],
   "source": [
    "fib(6)"
   ]
  },
  {
   "cell_type": "code",
   "execution_count": null,
   "metadata": {},
   "outputs": [],
   "source": []
  }
 ],
 "metadata": {
  "kernelspec": {
   "display_name": "Python 3",
   "language": "python",
   "name": "python3"
  },
  "language_info": {
   "codemirror_mode": {
    "name": "ipython",
    "version": 3
   },
   "file_extension": ".py",
   "mimetype": "text/x-python",
   "name": "python",
   "nbconvert_exporter": "python",
   "pygments_lexer": "ipython3",
   "version": "3.8.5"
  }
 },
 "nbformat": 4,
 "nbformat_minor": 4
}
