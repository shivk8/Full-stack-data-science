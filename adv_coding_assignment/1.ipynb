{
 "cells": [
  {
   "cell_type": "code",
   "execution_count": 3,
   "metadata": {},
   "outputs": [],
   "source": [
    "#python coding advance assignment-1\n",
    "\n",
    "my_dict = {'#':5,\n",
    "'O':3,\n",
    "'X': 1,\n",
    "'!':-1,\n",
    "'!!': -3,\n",
    "'!!!':-5}\n"
   ]
  },
  {
   "cell_type": "code",
   "execution_count": 5,
   "metadata": {},
   "outputs": [],
   "source": [
    "def check_score(input):\n",
    "    summation = 0\n",
    "    for i in input:\n",
    "        for j in i:\n",
    "            summation = summation + my_dict[j]\n",
    "    if summation < 0:\n",
    "        return 0\n",
    "    else:\n",
    "        return summation\n",
    "            "
   ]
  },
  {
   "cell_type": "code",
   "execution_count": 8,
   "metadata": {},
   "outputs": [
    {
     "data": {
      "text/plain": [
       "0"
      ]
     },
     "execution_count": 8,
     "metadata": {},
     "output_type": "execute_result"
    }
   ],
   "source": [
    "#sample test cases \n",
    "\n",
    "check_score([\n",
    "  [\"#\", \"!\"],\n",
    "  [\"!!\", \"X\"]\n",
    "]) \n",
    "\n",
    "\n",
    "check_score([\n",
    "  [\"!!!\", \"O\", \"!\"],\n",
    "  [\"X\", \"#\", \"!!!\"],\n",
    "  [\"!!\", \"X\", \"O\"]\n",
    "])\n"
   ]
  },
  {
   "cell_type": "code",
   "execution_count": 11,
   "metadata": {},
   "outputs": [],
   "source": [
    "#problem-2 combination of numbers \n",
    "def combinations(*argv):\n",
    "    combination = 1\n",
    "    for args in argv:\n",
    "        combination = combination * args\n",
    "    return combination\n",
    "        "
   ]
  },
  {
   "cell_type": "code",
   "execution_count": 14,
   "metadata": {},
   "outputs": [
    {
     "data": {
      "text/plain": [
       "120"
      ]
     },
     "execution_count": 14,
     "metadata": {},
     "output_type": "execute_result"
    }
   ],
   "source": [
    "#sample test cases \n",
    "combinations(2, 3)\n",
    "combinations(3, 7, 4)\n",
    "combinations(2, 3, 4, 5)"
   ]
  },
  {
   "cell_type": "code",
   "execution_count": 15,
   "metadata": {},
   "outputs": [],
   "source": [
    "#problem-3 morse code \n",
    "char_to_dots = {\n",
    "  'A': '.-', 'B': '-...', 'C': '-.-.', 'D': '-..', 'E': '.', 'F': '..-.',\n",
    "  'G': '--.', 'H': '....', 'I': '..', 'J': '.---', 'K': '-.-', 'L': '.-..',\n",
    "  'M': '--', 'N': '-.', 'O': '---', 'P': '.--.', 'Q': '--.-', 'R': '.-.',\n",
    "  'S': '...', 'T': '-', 'U': '..-', 'V': '...-', 'W': '.--', 'X': '-..-',\n",
    "  'Y': '-.--', 'Z': '--..', ' ': ' ', '0': '-----',\n",
    "  '1': '.----', '2': '..---', '3': '...--', '4': '....-', '5': '.....',\n",
    "  '6': '-....', '7': '--...', '8': '---..', '9': '----.',\n",
    "  '&': '.-...', \"'\": '.----.', '@': '.--.-.', ')': '-.--.-', '(': '-.--.',\n",
    "  ':': '---...', ',': '--..--', '=': '-...-', '!': '-.-.--', '.': '.-.-.-',\n",
    "  '-': '-....-', '+': '.-.-.', '\"': '.-..-.', '?': '..--..', '/': '-..-.'\n",
    "}\n"
   ]
  },
  {
   "cell_type": "code",
   "execution_count": 16,
   "metadata": {},
   "outputs": [],
   "source": [
    "def encode_morse(input):\n",
    "    morse_string=''\n",
    "    morse_code = []\n",
    "    for i in input:\n",
    "        morse_code.append(char_to_dots[i])\n",
    "    return morse_string.join(morse_code)\n",
    "        "
   ]
  },
  {
   "cell_type": "code",
   "execution_count": 18,
   "metadata": {},
   "outputs": [
    {
     "data": {
      "text/plain": [
       "'......-...--. --. -.-.--'"
      ]
     },
     "execution_count": 18,
     "metadata": {},
     "output_type": "execute_result"
    }
   ],
   "source": [
    "#sample test cases \n",
    "encode_morse(\"EDABBIT CHALLENGE\")\n",
    "encode_morse(\"HELP ME !\")"
   ]
  },
  {
   "cell_type": "code",
   "execution_count": 26,
   "metadata": {},
   "outputs": [],
   "source": [
    "#problem-4 prime number \n",
    "import math\n",
    "def prime(number):\n",
    "    if number % 2 == 0:\n",
    "        return False\n",
    "    else:\n",
    "        for i in range(3,int(math.sqrt(number)),2):\n",
    "            if number%i == 0:\n",
    "                return False\n",
    "    return True"
   ]
  },
  {
   "cell_type": "code",
   "execution_count": 29,
   "metadata": {},
   "outputs": [
    {
     "data": {
      "text/plain": [
       "False"
      ]
     },
     "execution_count": 29,
     "metadata": {},
     "output_type": "execute_result"
    }
   ],
   "source": [
    "#test cases\n",
    "prime(7)\n",
    "prime(56963)\n",
    "prime(5151512515524)"
   ]
  },
  {
   "cell_type": "code",
   "execution_count": 33,
   "metadata": {},
   "outputs": [],
   "source": [
    "#problem-5 boolean list\n",
    "def to_boolean_list(input):\n",
    "    lower = 96\n",
    "    upper = 64\n",
    "    l = ''\n",
    "    for i in input:\n",
    "        ascii_val = ord(i)\n",
    "        if ascii_val <=122 and ascii_val>=97:\n",
    "            pos = ascii_val - lower\n",
    "        else:\n",
    "            pos = ascii_val - upper\n",
    "        if pos%2 == 0:\n",
    "            l = l + '0'\n",
    "        else:\n",
    "            l = l + '1'\n",
    "    output = []\n",
    "    for i in l:\n",
    "        if i == '0':\n",
    "            output.append(False)\n",
    "        else:\n",
    "            output.append(True)\n",
    "    return output\n",
    "            \n",
    "            \n",
    "        "
   ]
  },
  {
   "cell_type": "code",
   "execution_count": 37,
   "metadata": {},
   "outputs": [
    {
     "data": {
      "text/plain": [
       "[False, True, True, False]"
      ]
     },
     "execution_count": 37,
     "metadata": {},
     "output_type": "execute_result"
    }
   ],
   "source": [
    "#test cases\n",
    "to_boolean_list(\"loves\")\n",
    "to_boolean_list(\"deep\")\n",
    "to_boolean_list(\"tesh\")"
   ]
  },
  {
   "cell_type": "code",
   "execution_count": null,
   "metadata": {},
   "outputs": [],
   "source": []
  },
  {
   "cell_type": "code",
   "execution_count": null,
   "metadata": {},
   "outputs": [],
   "source": []
  }
 ],
 "metadata": {
  "kernelspec": {
   "display_name": "Python 3",
   "language": "python",
   "name": "python3"
  },
  "language_info": {
   "codemirror_mode": {
    "name": "ipython",
    "version": 3
   },
   "file_extension": ".py",
   "mimetype": "text/x-python",
   "name": "python",
   "nbconvert_exporter": "python",
   "pygments_lexer": "ipython3",
   "version": "3.8.5"
  }
 },
 "nbformat": 4,
 "nbformat_minor": 4
}
