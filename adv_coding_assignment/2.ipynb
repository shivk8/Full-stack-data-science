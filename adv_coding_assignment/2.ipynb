{
 "cells": [
  {
   "cell_type": "code",
   "execution_count": 31,
   "metadata": {},
   "outputs": [],
   "source": [
    "#problem -1 pentagon\n",
    "dots={0:0,\n",
    "     1:1}\n",
    "\n",
    "def pentagonal(num):\n",
    "    if num in dots.keys():\n",
    "        return dots[num]\n",
    "    elif num-1 in dots.keys():\n",
    "        dots[num] = (num-1)*5 + dots[num-1]\n",
    "        return dots[num]\n",
    "    else:\n",
    "        summ = 1\n",
    "        for i in range(2,num):\n",
    "            summ = summ + (i-1)*5\n",
    "        dots[num] = summ \n",
    "        return summ\n",
    "    \n",
    "    "
   ]
  },
  {
   "cell_type": "code",
   "execution_count": 6,
   "metadata": {},
   "outputs": [],
   "source": [
    "#problem 2 - encryption\n",
    "vowels_dict = {\n",
    "    'a': '0',\n",
    "    'e': '1',\n",
    "    'i':'2',\n",
    "    'o':'2',\n",
    "    'u' :'3'\n",
    "}"
   ]
  },
  {
   "cell_type": "code",
   "execution_count": 15,
   "metadata": {},
   "outputs": [],
   "source": [
    "def encrypt(inp):\n",
    "    reverse = inp[::-1]\n",
    "    for i in range(0,len(reverse)):\n",
    "        if reverse[i] in vowels_dict.keys():\n",
    "            reverse = reverse.replace(reverse[i],vowels_dict[reverse[i]])\n",
    "    reverse = reverse + \"aca\"\n",
    "    return reverse"
   ]
  },
  {
   "cell_type": "code",
   "execution_count": 19,
   "metadata": {},
   "outputs": [
    {
     "data": {
      "text/plain": [
       "'0c0pl0aca'"
      ]
     },
     "execution_count": 19,
     "metadata": {},
     "output_type": "execute_result"
    }
   ],
   "source": [
    "#test case\n",
    "encrypt(\"banana\")\n",
    "encrypt(\"karaca\")\n",
    "encrypt(\"burak\")\n",
    "encrypt(\"alpaca\")"
   ]
  },
  {
   "cell_type": "code",
   "execution_count": 41,
   "metadata": {},
   "outputs": [],
   "source": [
    "import datetime  \n",
    "from datetime import date \n",
    "#problem-3 friday 13th\n",
    "def has_friday_13(mon, year): \n",
    "    day_name = datetime.date(int(year), int(mon), 13) \n",
    "    if day_name.strftime(\"%A\") == \"Friday\":\n",
    "        return True\n",
    "    else:\n",
    "        return False"
   ]
  },
  {
   "cell_type": "code",
   "execution_count": 18,
   "metadata": {},
   "outputs": [
    {
     "data": {
      "text/plain": [
       "'bad cookie, good cookie, bad cookie, good cookie, good cookie'"
      ]
     },
     "execution_count": 18,
     "metadata": {},
     "output_type": "execute_result"
    }
   ],
   "source": [
    "\", \".join(lst)"
   ]
  },
  {
   "cell_type": "code",
   "execution_count": 21,
   "metadata": {},
   "outputs": [
    {
     "data": {
      "text/plain": [
       "2"
      ]
     },
     "execution_count": 21,
     "metadata": {},
     "output_type": "execute_result"
    }
   ],
   "source": [
    "#problem 4 regex\n",
    "import re\n",
    "lst = [\"bad cookie\", \"good cookie\", \"bad cookie\", \"good cookie\", \"good cookie\"]\n",
    "pattern=\"bad cookie\"\n",
    "len(re.findall(pattern, \", \".join(lst)))"
   ]
  },
  {
   "cell_type": "code",
   "execution_count": 12,
   "metadata": {},
   "outputs": [],
   "source": [
    "#problem 5 - pluralize\n",
    "def pluralize(l):\n",
    "    items = {}\n",
    "    res = set()\n",
    "    for i in l:\n",
    "        if i in items.keys():\n",
    "            items[i] = items[i] + 1\n",
    "        else:\n",
    "            items[i] = 1\n",
    "    for j in items.keys():\n",
    "        if items[j] > 1:\n",
    "            res.add(j+'s')\n",
    "        else:\n",
    "            res.add(j)\n",
    "    return res\n",
    "        \n",
    "    "
   ]
  },
  {
   "cell_type": "code",
   "execution_count": 13,
   "metadata": {},
   "outputs": [
    {
     "data": {
      "text/plain": [
       "{'arm', 'chair', 'pencil'}"
      ]
     },
     "execution_count": 13,
     "metadata": {},
     "output_type": "execute_result"
    }
   ],
   "source": [
    "#testcase\n",
    "pluralize([\"cow\", \"pig\", \"cow\", \"cow\"])\n",
    "pluralize([\"table\", \"table\", \"table\"])\n",
    "pluralize([\"chair\", \"pencil\", \"arm\"])"
   ]
  },
  {
   "cell_type": "code",
   "execution_count": null,
   "metadata": {},
   "outputs": [],
   "source": []
  },
  {
   "cell_type": "code",
   "execution_count": null,
   "metadata": {},
   "outputs": [],
   "source": []
  },
  {
   "cell_type": "code",
   "execution_count": null,
   "metadata": {},
   "outputs": [],
   "source": []
  },
  {
   "cell_type": "code",
   "execution_count": null,
   "metadata": {},
   "outputs": [],
   "source": []
  }
 ],
 "metadata": {
  "kernelspec": {
   "display_name": "Python 3",
   "language": "python",
   "name": "python3"
  },
  "language_info": {
   "codemirror_mode": {
    "name": "ipython",
    "version": 3
   },
   "file_extension": ".py",
   "mimetype": "text/x-python",
   "name": "python",
   "nbconvert_exporter": "python",
   "pygments_lexer": "ipython3",
   "version": "3.8.5"
  }
 },
 "nbformat": 4,
 "nbformat_minor": 4
}
