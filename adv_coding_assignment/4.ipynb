{
 "cells": [
  {
   "cell_type": "code",
   "execution_count": 19,
   "metadata": {},
   "outputs": [],
   "source": [
    "fib = {\n",
    "    0:0,\n",
    "    1:1\n",
    "}\n",
    "def fib_fast(num):\n",
    "    if num in fib.keys():\n",
    "        return fib[num]\n",
    "    else:\n",
    "        return cal_fib(num)\n",
    "        "
   ]
  },
  {
   "cell_type": "code",
   "execution_count": 21,
   "metadata": {},
   "outputs": [
    {
     "data": {
      "text/plain": [
       "12586269025"
      ]
     },
     "execution_count": 21,
     "metadata": {},
     "output_type": "execute_result"
    }
   ],
   "source": [
    "def cal_fib(num):\n",
    "    if num not in fib.keys():\n",
    "        if num == 1:\n",
    "            fib[num] = 1\n",
    "            return fib[num]\n",
    "        elif num == 0:\n",
    "            fib[num] = 0\n",
    "            return fib[num]\n",
    "        else:\n",
    "            fib[num] = cal_fib(num-1) + cal_fib(num-2)\n",
    "            return fib[num]\n",
    "    else:\n",
    "        return fib[num]"
   ]
  },
  {
   "cell_type": "code",
   "execution_count": 31,
   "metadata": {},
   "outputs": [],
   "source": [
    "def convert_to_hex(string):\n",
    "    res = \"\"\n",
    "    for i in string:\n",
    "        res = res + format(ord(i), \"x\") + \" \"\n",
    "    return res[0:len(res)-1]\n",
    "        "
   ]
  },
  {
   "cell_type": "code",
   "execution_count": 49,
   "metadata": {},
   "outputs": [],
   "source": [
    "def uncensor(inp,vowels):\n",
    "    j=0\n",
    "    for i in range(0,len(inp)):\n",
    "        if inp[i] == '*':\n",
    "            inp = inp.replace(inp[i],vowels[j],1)\n",
    "            j= j+1\n",
    "    return inp"
   ]
  },
  {
   "cell_type": "code",
   "execution_count": 55,
   "metadata": {
    "scrolled": true
   },
   "outputs": [],
   "source": [
    "import socket\n",
    "def get_domain(ip):\n",
    "    return socket.gethostbyaddr(ip)[0]"
   ]
  },
  {
   "cell_type": "code",
   "execution_count": 58,
   "metadata": {},
   "outputs": [],
   "source": [
    "fact = {\n",
    "    1:1\n",
    "}\n",
    "def fact_of_fact(num):\n",
    "    res = 1\n",
    "    for i in range(1,num+1):\n",
    "        res = res * find_fact(i)\n",
    "    return res\n",
    "        \n",
    "    "
   ]
  },
  {
   "cell_type": "code",
   "execution_count": 59,
   "metadata": {},
   "outputs": [],
   "source": [
    "def find_fact(num):\n",
    "    if num not in fact.keys():\n",
    "        if num == 1:\n",
    "            fact[num] = 1\n",
    "            return fact[num]\n",
    "        else:\n",
    "            fact[num] = num * fact[num-1]\n",
    "            return fact[num]\n",
    "    else:\n",
    "        return fact[num]"
   ]
  },
  {
   "cell_type": "code",
   "execution_count": 62,
   "metadata": {},
   "outputs": [
    {
     "data": {
      "text/plain": [
       "24883200"
      ]
     },
     "execution_count": 62,
     "metadata": {},
     "output_type": "execute_result"
    }
   ],
   "source": []
  },
  {
   "cell_type": "code",
   "execution_count": null,
   "metadata": {},
   "outputs": [],
   "source": []
  }
 ],
 "metadata": {
  "kernelspec": {
   "display_name": "Python 3",
   "language": "python",
   "name": "python3"
  },
  "language_info": {
   "codemirror_mode": {
    "name": "ipython",
    "version": 3
   },
   "file_extension": ".py",
   "mimetype": "text/x-python",
   "name": "python",
   "nbconvert_exporter": "python",
   "pygments_lexer": "ipython3",
   "version": "3.8.5"
  }
 },
 "nbformat": 4,
 "nbformat_minor": 4
}
