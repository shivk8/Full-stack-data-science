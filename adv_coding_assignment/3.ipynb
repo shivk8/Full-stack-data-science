{
 "cells": [
  {
   "cell_type": "code",
   "execution_count": 35,
   "metadata": {},
   "outputs": [],
   "source": [
    "#problem-1 arithmetic operations\n",
    "def arithmetic_operation(inp):\n",
    "    op1 = inp[0:2]\n",
    "    op = inp[3:4]\n",
    "    op2 = inp[5:]\n",
    "    if op == '+':\n",
    "        return int(op1) + int(op2)\n",
    "    elif op == '-':\n",
    "        return int(op1) - int(op2) \n",
    "    elif op == '*':\n",
    "        return int(op1) * int(op2)\n",
    "    elif op == '/':\n",
    "        print(op2)\n",
    "        if op2.lstrip() == '0':\n",
    "            return -1\n",
    "        else:\n",
    "            return int(int(op1) / int(op2))"
   ]
  },
  {
   "cell_type": "code",
   "execution_count": 5,
   "metadata": {},
   "outputs": [],
   "source": [
    "#problem 2 perimeter\n",
    "def perimeter(l):\n",
    "    tot=0\n",
    "    for i in range(0,2):\n",
    "        for j in range(i+1,3):\n",
    "            add = 0\n",
    "            x1 = l[i][0]\n",
    "            y1 = l[i][1]\n",
    "            x2 = l[j][0]\n",
    "            y2 = l[j][1]\n",
    "            add = (((x2-x1)**2)+((y2-y1)**2)) ** 0.5\n",
    "            tot = tot + round(add,2)\n",
    "    return tot\n",
    "            \n",
    "        \n",
    "        \n",
    "        "
   ]
  },
  {
   "cell_type": "code",
   "execution_count": 2,
   "metadata": {},
   "outputs": [],
   "source": [
    "#problem 3 skyscraper\n",
    "def tallest_skyscraper(l):\n",
    "    length = -1\n",
    "    for i in range(0,len(l)):\n",
    "        h = 0\n",
    "        for j in range(0,len(l[i])):\n",
    "            if l[j][i] == 1:\n",
    "                h = h + 1\n",
    "        if h > length:\n",
    "            length = h\n",
    "    return length\n",
    "            \n",
    "            "
   ]
  },
  {
   "cell_type": "code",
   "execution_count": 26,
   "metadata": {},
   "outputs": [],
   "source": [
    "#problem 4 \n",
    "def bonus(days):\n",
    "    bonus = 0\n",
    "    if days < 32:\n",
    "        return bonus\n",
    "    days = days-32\n",
    "    if days >= 8:\n",
    "        bonus = 8*325\n",
    "        days = days - 8\n",
    "    else:\n",
    "        return days*325\n",
    "    if days>=8:\n",
    "        bonus = bonus + 8*550\n",
    "        days = days - 8\n",
    "    else:\n",
    "        return (bonus + days*550)\n",
    "    if days > 0:\n",
    "        bonus = bonus + days*600\n",
    "    return bonus"
   ]
  },
  {
   "cell_type": "code",
   "execution_count": 20,
   "metadata": {},
   "outputs": [],
   "source": [
    "#problem 5 \n",
    "def is_disarium(num):\n",
    "    pos = 0\n",
    "    arr = []\n",
    "    t = num\n",
    "    while num > 0:\n",
    "        d = num%10\n",
    "        arr.append(d)\n",
    "        num = int(num/10)\n",
    "    arr = arr[::-1]\n",
    "    print(arr)\n",
    "    summ = 0\n",
    "    for i in range(0,len(arr)):\n",
    "        summ = summ + arr[i]**(i+1)\n",
    "    if summ == t:\n",
    "        return True\n",
    "    return False"
   ]
  }
 ],
 "metadata": {
  "kernelspec": {
   "display_name": "Python 3",
   "language": "python",
   "name": "python3"
  },
  "language_info": {
   "codemirror_mode": {
    "name": "ipython",
    "version": 3
   },
   "file_extension": ".py",
   "mimetype": "text/x-python",
   "name": "python",
   "nbconvert_exporter": "python",
   "pygments_lexer": "ipython3",
   "version": "3.8.5"
  }
 },
 "nbformat": 4,
 "nbformat_minor": 4
}
